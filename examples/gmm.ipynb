{
 "cells": [
  {
   "cell_type": "markdown",
   "metadata": {},
   "source": [
    "# The Gaussian Mixture Class"
   ]
  },
  {
   "cell_type": "markdown",
   "metadata": {},
   "source": [
    "In this notebook we introduce the `sparseklearn.GaussianMixture` class and demonstrate its basic functionality. `GaussianMixture` is designed to look and feel like scikit-learn's [GaussianMixture](https://scikit-learn.org/stable/modules/generated/sklearn.mixture.GaussianMixture.html) class, but under the hood it uses `sparseklearn.Sparsifier`'s methods to perform computations on sparsified data. It is recommended that you go through the Sparsifier's notebook before this one.\n",
    "\n",
    "`GaussianMixture` fits a mixture of Gaussians to data using a sparsified analog of the Expectation Maximization algorithm. \n",
    "\n",
    "In general, Gaussian mixture models (GMMs) are intractable in high dimensions because training requires iteratively inverting $P \\times P$ matrices, where $P=$ `num_feat_full` is the dimension of the original latent space. To circumvent this issue we use only spherical or diagonal covariances. This also helps keep the number of parameters down to $\\mathcal{O}(P)$ rather than $\\mathcal{O}(P^2)$. "
   ]
  },
  {
   "cell_type": "code",
   "execution_count": 1,
   "metadata": {},
   "outputs": [],
   "source": [
    "import numpy as np\n",
    "from sparseklearn import GaussianMixture"
   ]
  },
  {
   "cell_type": "markdown",
   "metadata": {},
   "source": [
    "## Basic usage"
   ]
  },
  {
   "cell_type": "code",
   "execution_count": 3,
   "metadata": {},
   "outputs": [],
   "source": [
    "rs = np.random.RandomState(78)\n",
    "num_samp, num_feat_full = 300, 100\n",
    "X = rs.rand(num_samp, num_feat_full)"
   ]
  },
  {
   "cell_type": "code",
   "execution_count": 14,
   "metadata": {},
   "outputs": [],
   "source": [
    "gmm = GaussianMixture(num_samp = num_samp, num_feat_full = num_feat_full, num_feat_comp = 10, n_components = 3)\n",
    "gmm.fit(X)\n",
    "y_pred = gmm.predict(X=X)"
   ]
  },
  {
   "cell_type": "markdown",
   "metadata": {},
   "source": [
    "## Example application: small cluster recovery"
   ]
  },
  {
   "cell_type": "code",
   "execution_count": null,
   "metadata": {},
   "outputs": [],
   "source": []
  }
 ],
 "metadata": {
  "kernelspec": {
   "display_name": "Python 3",
   "language": "python",
   "name": "python3"
  },
  "language_info": {
   "codemirror_mode": {
    "name": "ipython",
    "version": 3
   },
   "file_extension": ".py",
   "mimetype": "text/x-python",
   "name": "python",
   "nbconvert_exporter": "python",
   "pygments_lexer": "ipython3",
   "version": "3.7.5"
  }
 },
 "nbformat": 4,
 "nbformat_minor": 4
}
