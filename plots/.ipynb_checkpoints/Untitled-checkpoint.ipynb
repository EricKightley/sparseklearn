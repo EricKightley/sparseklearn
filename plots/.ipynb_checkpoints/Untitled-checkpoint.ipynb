{
 "cells": [
  {
   "cell_type": "code",
   "execution_count": 2,
   "metadata": {},
   "outputs": [],
   "source": [
    "import matplotlib\n",
    "import matplotlib.pyplot as plt\n",
    "%matplotlib inline\n",
    "import numpy as np"
   ]
  },
  {
   "cell_type": "code",
   "execution_count": 16,
   "metadata": {},
   "outputs": [
    {
     "data": {
      "image/png": "[encoded data removed]",
      "text/plain": [
       "<matplotlib.figure.Figure at 0x7fd53f7adbe0>"
      ]
     },
     "metadata": {},
     "output_type": "display_data"
    }
   ],
   "source": [
    "images = np.load('gmm_means.npy')\n",
    "weights = np.load('gmm_weights.npy')\n",
    "\n",
    "f, (ax0, ax1, ax2) = plt.subplots(figsize=(10,32),ncols=3)\n",
    "axeslist = [ax0,ax1,ax2]\n",
    "for i in range(3):\n",
    "    ax = axeslist[i]\n",
    "    #ax.set_title(\"count = {}\".format(counts[i]))\n",
    "    ax.imshow(images[i].reshape(28,28),cmap='Greys')\n",
    "    ax.set_title(r'w = {:.4f}'.format(weights[i]))\n",
    "    ax.get_xaxis().set_ticks([])\n",
    "    ax.get_yaxis().set_ticks([])\n",
    "plt.show()"
   ]
  },
  {
   "cell_type": "code",
   "execution_count": 16,
   "metadata": {},
   "outputs": [
    {
     "data": {
      "image/png": "[encoded data removed]",
      "text/plain": [
       "<matplotlib.figure.Figure at 0x7f27c49a5518>"
      ]
     },
     "metadata": {},
     "output_type": "display_data"
    }
   ],
   "source": [
    "images = np.load('sklearn_gmm_means.npy')\n",
    "weights = np.load('sklearn_gmm_weights.npy')\n",
    "\n",
    "\n",
    "f, (ax0, ax1, ax2) = plt.subplots(figsize=(10,32),ncols=3)\n",
    "axeslist = [ax0,ax1,ax2]\n",
    "for i in range(3):\n",
    "    ax = axeslist[i]\n",
    "    #ax.set_title(\"count = {}\".format(counts[i]))\n",
    "    ax.imshow(images[i].reshape(28,28),cmap='Greys')\n",
    "    ax.set_title(r'w = {:.4f}'.format(weights[i]))\n",
    "    ax.get_xaxis().set_ticks([])\n",
    "    ax.get_yaxis().set_ticks([])\n",
    "plt.show()"
   ]
  },
  {
   "cell_type": "code",
   "execution_count": 17,
   "metadata": {},
   "outputs": [
    {
     "data": {
      "image/png": "[encoded data removed]",
      "text/plain": [
       "<matplotlib.figure.Figure at 0x7f27c4b10898>"
      ]
     },
     "metadata": {},
     "output_type": "display_data"
    }
   ],
   "source": [
    "images = np.load('kmeans_means_dense.npy')\n",
    "\n",
    "f, (ax0, ax1, ax2) = plt.subplots(figsize=(10,32),ncols=3)\n",
    "axeslist = [ax0,ax1,ax2]\n",
    "for i in range(3):\n",
    "    ax = axeslist[i]\n",
    "    #ax.set_title(\"count = {}\".format(counts[i]))\n",
    "    ax.imshow(images[i].reshape(28,28),cmap='Greys')\n",
    "    ax.get_xaxis().set_ticks([])\n",
    "    ax.get_yaxis().set_ticks([])\n",
    "plt.show()"
   ]
  },
  {
   "cell_type": "code",
   "execution_count": null,
   "metadata": {},
   "outputs": [],
   "source": []
  }
 ],
 "metadata": {
  "kernelspec": {
   "display_name": "Python 3",
   "language": "python",
   "name": "python3"
  },
  "language_info": {
   "codemirror_mode": {
    "name": "ipython",
    "version": 3
   },
   "file_extension": ".py",
   "mimetype": "text/x-python",
   "name": "python",
   "nbconvert_exporter": "python",
   "pygments_lexer": "ipython3",
   "version": "3.6.1"
  }
 },
 "nbformat": 4,
 "nbformat_minor": 2
}
