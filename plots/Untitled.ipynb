{
 "cells": [
  {
   "cell_type": "code",
   "execution_count": 1,
   "metadata": {},
   "outputs": [],
   "source": [
    "import matplotlib\n",
    "import matplotlib.pyplot as plt\n",
    "%matplotlib inline\n",
    "import numpy as np"
   ]
  },
  {
   "cell_type": "code",
   "execution_count": 5,
   "metadata": {},
   "outputs": [
    {
     "data": {
      "image/png": "[encoded data removed]",
      "text/plain": [
       "<matplotlib.figure.Figure at 0x7f4535706ac8>"
      ]
     },
     "metadata": {},
     "output_type": "display_data"
    }
   ],
   "source": [
    "images = np.load('gmm_means.npy')\n",
    "\n",
    "f, (ax0, ax1, ax2) = plt.subplots(figsize=(10,32),ncols=3)\n",
    "axeslist = [ax0,ax1,ax2]\n",
    "for i in range(3):\n",
    "    ax = axeslist[i]\n",
    "    #ax.set_title(\"count = {}\".format(counts[i]))\n",
    "    ax.imshow(images[i].reshape(28,28),cmap='Greys')\n",
    "    ax.get_xaxis().set_ticks([])\n",
    "    ax.get_yaxis().set_ticks([])\n",
    "plt.show()"
   ]
  },
  {
   "cell_type": "code",
   "execution_count": 3,
   "metadata": {},
   "outputs": [
    {
     "data": {
      "image/png": "[encoded data removed]",
      "text/plain": [
       "<matplotlib.figure.Figure at 0x7f45358e6eb8>"
      ]
     },
     "metadata": {},
     "output_type": "display_data"
    }
   ],
   "source": [
    "images = np.load('sklearn_gmm_means.npy')\n",
    "\n",
    "f, (ax0, ax1, ax2) = plt.subplots(figsize=(10,32),ncols=3)\n",
    "axeslist = [ax0,ax1,ax2]\n",
    "for i in range(3):\n",
    "    ax = axeslist[i]\n",
    "    #ax.set_title(\"count = {}\".format(counts[i]))\n",
    "    ax.imshow(images[i].reshape(28,28),cmap='Greys')\n",
    "    ax.get_xaxis().set_ticks([])\n",
    "    ax.get_yaxis().set_ticks([])\n",
    "plt.show()"
   ]
  },
  {
   "cell_type": "code",
   "execution_count": null,
   "metadata": {},
   "outputs": [],
   "source": []
  }
 ],
 "metadata": {
  "kernelspec": {
   "display_name": "Python 3",
   "language": "python",
   "name": "python3"
  },
  "language_info": {
   "codemirror_mode": {
    "name": "ipython",
    "version": 3
   },
   "file_extension": ".py",
   "mimetype": "text/x-python",
   "name": "python",
   "nbconvert_exporter": "python",
   "pygments_lexer": "ipython3",
   "version": "3.6.1"
  }
 },
 "nbformat": 4,
 "nbformat_minor": 2
}
